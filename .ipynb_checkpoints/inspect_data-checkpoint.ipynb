{
 "cells": [
  {
   "cell_type": "code",
   "execution_count": null,
   "id": "2e2fedc9",
   "metadata": {},
   "outputs": [],
   "source": [
    "from pathlib import Path\n",
    "import random"
   ]
  },
  {
   "cell_type": "code",
   "execution_count": null,
   "id": "4bcd709d",
   "metadata": {},
   "outputs": [],
   "source": [
    "train_dir = Path(\"./wikipedia-biography-dataset/train\").resolve()"
   ]
  },
  {
   "cell_type": "code",
   "execution_count": null,
   "id": "297d8280",
   "metadata": {},
   "outputs": [],
   "source": [
    "box_fp = train_dir/\"train.box\"\n",
    "contributors_fp = train_dir/\"train.contributors\"\n",
    "id_fp = train_dir/\"train.id\"\n",
    "nb_fp = train_dir/\"train.nb\"\n",
    "sent_fp = train_dir/\"train.sent\"\n",
    "title_fp = train_dir/\"train.title\""
   ]
  },
  {
   "cell_type": "code",
   "execution_count": null,
   "id": "beee2af7",
   "metadata": {},
   "outputs": [],
   "source": [
    "with open(id_fp) as f:\n",
    "    ids = [line.rstrip() for line in f]\n",
    "\n",
    "with open(box_fp) as f:\n",
    "    boxes = [line.rstrip() for line in f]\n",
    "\n",
    "with open(nb_fp) as f:\n",
    "    nbs = [line.rstrip() for line in f]\n",
    "\n",
    "with open(sent_fp) as f:\n",
    "    sents = [line.rstrip() for line in f]\n",
    "\n",
    "with open(title_fp) as f:\n",
    "    titles = [line.rstrip() for line in f]\n",
    "\n",
    "with open(contributors_fp) as f:\n",
    "    contributors = [line.rstrip() for line in f]"
   ]
  },
  {
   "cell_type": "code",
   "execution_count": null,
   "id": "17d88707",
   "metadata": {},
   "outputs": [],
   "source": [
    "print(f\"ids: {len(ids)}\")\n",
    "print(f\"boxes: {len(boxes)}\")\n",
    "print(f\"nbs: {len(nbs)}\")\n",
    "print(f\"sents: {len(sents)}\")\n",
    "print(f\"titles: {len(titles)}\")\n",
    "print(f\"contributors: {len(contributors)}\")"
   ]
  },
  {
   "cell_type": "markdown",
   "id": "de70c80c",
   "metadata": {},
   "source": [
    "- ids contains the list of wikipedia ids, one article per line.\n",
    "- boxes contains the infobox data, one article per line.\n",
    "- nbs contains the number of sentences per article, one article per line.\n",
    "- sents contains the sentences, one sentence per line.\n",
    "- titles contains the title of the wikipedia article, one per line.\n",
    "- contributors contains the url of the wikipedia article history, which list the authors of the article."
   ]
  },
  {
   "cell_type": "code",
   "execution_count": null,
   "id": "4bed72f4",
   "metadata": {},
   "outputs": [],
   "source": [
    "i = 0\n",
    "new_sents = []\n",
    "for nb in nbs:\n",
    "    nb = int(nb)\n",
    "    new_sents.append(sents[i:i+nb])\n",
    "    i += nb\n",
    "sents = new_sents"
   ]
  },
  {
   "cell_type": "code",
   "execution_count": null,
   "id": "c93e5797",
   "metadata": {},
   "outputs": [],
   "source": [
    "print(f\"ids: {len(ids)}\")\n",
    "print(f\"boxes: {len(boxes)}\")\n",
    "print(f\"nbs: {len(nbs)}\")\n",
    "print(f\"sents: {len(sents)}\")\n",
    "print(f\"titles: {len(titles)}\")\n",
    "print(f\"contributors: {len(contributors)}\")"
   ]
  },
  {
   "cell_type": "code",
   "execution_count": null,
   "id": "9c0f0497",
   "metadata": {},
   "outputs": [],
   "source": [
    "sample = random.randint(0,len(ids))\n",
    "\n",
    "print(f\"TITLE: {titles[sample]}\")\n",
    "print()\n",
    "sample_boxes = \"\\n\".join(boxes[sample].split(\"\\t\"))\n",
    "print(f\"INFOBOX:\\n{sample_boxes}\")\n",
    "sample_sents = \"\\n\".join(sents[sample])\n",
    "print()\n",
    "print(f\"TEXT:\\n{sample_sents}\")\n",
    "# print(f\"ids: {ids[sample]}\")\n",
    "# print(f\"nbs: {nbs[sample]}\")\n",
    "# print(f\"contributors: {contributors[sample]}\")"
   ]
  }
 ],
 "metadata": {
  "kernelspec": {
   "display_name": "Python 3 (ipykernel)",
   "language": "python",
   "name": "python3"
  },
  "language_info": {
   "codemirror_mode": {
    "name": "ipython",
    "version": 3
   },
   "file_extension": ".py",
   "mimetype": "text/x-python",
   "name": "python",
   "nbconvert_exporter": "python",
   "pygments_lexer": "ipython3",
   "version": "3.10.12"
  }
 },
 "nbformat": 4,
 "nbformat_minor": 5
}
